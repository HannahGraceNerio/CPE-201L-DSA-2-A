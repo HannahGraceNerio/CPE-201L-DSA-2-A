{
  "nbformat": 4,
  "nbformat_minor": 0,
  "metadata": {
    "colab": {
      "provenance": [],
      "authorship_tag": "ABX9TyMMoUHWpViN4WQWzyHVVSCJ",
      "include_colab_link": true
    },
    "kernelspec": {
      "name": "python3",
      "display_name": "Python 3"
    },
    "language_info": {
      "name": "python"
    }
  },
  "cells": [
    {
      "cell_type": "markdown",
      "metadata": {
        "id": "view-in-github",
        "colab_type": "text"
      },
      "source": [
        "<a href=\"https://colab.research.google.com/github/HannahGraceNerio/CPE-201L-DSA-2-A/blob/main/Midterm_Skill_Test.ipynb\" target=\"_parent\"><img src=\"https://colab.research.google.com/assets/colab-badge.svg\" alt=\"Open In Colab\"/></a>"
      ]
    },
    {
      "cell_type": "markdown",
      "source": [
        "Implement an array of even integers less than 50 but not less than 20 and do the following operations:\n",
        "a.) Display the elements\n",
        "b.) Find the maximum element\n",
        "c.) Reverse the array"
      ],
      "metadata": {
        "id": "AS-Ok_LmBT_t"
      }
    },
    {
      "cell_type": "code",
      "source": [
        "Arr = [0] * 15\n",
        "\n",
        "Arr[0] = \"20\"\n",
        "Arr [1] = \"22\"\n",
        "Arr [2] = \"24\"\n",
        "Arr [3] = \"26\"\n",
        "Arr [4] = \"28\"\n",
        "Arr [5] = \"30\"\n",
        "Arr [6] = \"32\"\n",
        "Arr [7] = \"34\"\n",
        "Arr [8] = \"36\"\n",
        "Arr [9] = \"38\"\n",
        "Arr [10] = \"40\"\n",
        "Arr [11] = \"42\"\n",
        "Arr [12] = \"44\"\n",
        "Arr [13] = \"46\"\n",
        "Arr [14] = \"48\"\n",
        "\n",
        "print(\"Array of elements:\", arr)\n",
        "for i in range(len(Arr)):\n",
        "    print(f\"Arr[{i}] = {Arr[i]}\")\n",
        "print()\n",
        "\n",
        "max_element = Arr[0]\n",
        "for i in range(1, len(Arr)):\n",
        "    if Arr[i] > max_element:\n",
        "        max_element = Arr[i]\n",
        "print(\"Maximum element:\", max_element)\n",
        "print()\n",
        "\n",
        "print(\"\\nReversed array:\")\n",
        "for i in range(len(Arr) - 1, -1, -1):\n",
        "    print(Arr[i], end=\" \")\n"
      ],
      "metadata": {
        "colab": {
          "base_uri": "https://localhost:8080/"
        },
        "id": "BCcucUcyBsa1",
        "outputId": "9b071315-f672-4548-c0c8-f9ceafd35bf2"
      },
      "execution_count": 15,
      "outputs": [
        {
          "output_type": "stream",
          "name": "stdout",
          "text": [
            "Array of elements: [20, 22, 24, 26, 28, 30, 32, 34, 36, 38, 40, 42, 44, 46, 48]\n",
            "Arr[0] = 20\n",
            "Arr[1] = 22\n",
            "Arr[2] = 24\n",
            "Arr[3] = 26\n",
            "Arr[4] = 28\n",
            "Arr[5] = 30\n",
            "Arr[6] = 32\n",
            "Arr[7] = 34\n",
            "Arr[8] = 36\n",
            "Arr[9] = 38\n",
            "Arr[10] = 40\n",
            "Arr[11] = 42\n",
            "Arr[12] = 44\n",
            "Arr[13] = 46\n",
            "Arr[14] = 48\n",
            "\n",
            "Maximum element: 48\n",
            "\n",
            "\n",
            "Reversed array:\n",
            "48 46 44 42 40 38 36 34 32 30 28 26 24 22 20 "
          ]
        }
      ]
    }
  ]
}