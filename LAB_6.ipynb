{
  "nbformat": 4,
  "nbformat_minor": 0,
  "metadata": {
    "colab": {
      "provenance": [],
      "authorship_tag": "ABX9TyMcr4GRjJfao98bq0jKTkQW",
      "include_colab_link": true
    },
    "kernelspec": {
      "name": "python3",
      "display_name": "Python 3"
    },
    "language_info": {
      "name": "python"
    }
  },
  "cells": [
    {
      "cell_type": "markdown",
      "metadata": {
        "id": "view-in-github",
        "colab_type": "text"
      },
      "source": [
        "<a href=\"https://colab.research.google.com/github/HannahGraceNerio/CPE-201L-DSA-2-A/blob/main/LAB_6.ipynb\" target=\"_parent\"><img src=\"https://colab.research.google.com/assets/colab-badge.svg\" alt=\"Open In Colab\"/></a>"
      ]
    },
    {
      "cell_type": "code",
      "execution_count": 7,
      "metadata": {
        "colab": {
          "base_uri": "https://localhost:8080/"
        },
        "id": "lOJcSPyCc9VO",
        "outputId": "78f0a777-45fd-48c5-e3fb-0c1ac71e97cd"
      },
      "outputs": [
        {
          "output_type": "stream",
          "name": "stdout",
          "text": [
            "Linked List:\n",
            "2 -> 3 -> 5 -> 7 -> 11 -> 13 -> 17 -> 19 -> None\n",
            "Head of the list: 2\n",
            "Tail of the list: 19\n"
          ]
        }
      ],
      "source": [
        "class Node:\n",
        "  def __init__(self, data):\n",
        "    self.data = data\n",
        "    self.next = None\n",
        "\n",
        "class LinkedList:\n",
        "    def __init__(self):\n",
        "      self.head = None\n",
        "\n",
        "    def Append(self, data):\n",
        "      new_node = Node(data)\n",
        "      if self.head is None:\n",
        "        self.head = new_node\n",
        "      else:\n",
        "        current = self.head\n",
        "        while current.next:\n",
        "          current = current.next\n",
        "        current.next = new_node\n",
        "\n",
        "    def display(self):\n",
        "      current = self.head\n",
        "      while current:\n",
        "        print(current.data, end=\" -> \")\n",
        "        current = current.next\n",
        "      print(\"None\")\n",
        "\n",
        "    def get_head(self):\n",
        "      return self.head.data if self.head else None\n",
        "\n",
        "    def get_tail(self):\n",
        "      current = self.head\n",
        "      if not current:\n",
        "        return None\n",
        "      while current.next:\n",
        "        current = current.next\n",
        "      return current.data\n",
        "\n",
        "def is_prime(n):\n",
        "  if n < 2:\n",
        "    return False\n",
        "  for i in range(2, int(n**0.5) + 1):\n",
        "    if n % i == 0:\n",
        "      return False\n",
        "  return True\n",
        "\n",
        "ll = LinkedList()\n",
        "for num in range(20):\n",
        "  if is_prime(num):\n",
        "    ll.Append(num)\n",
        "\n",
        "print(\"Linked List:\")\n",
        "ll.display()\n",
        "\n",
        "print(\"Head of the list:\", ll.get_head())\n",
        "print(\"Tail of the list:\", ll.get_tail())"
      ]
    }
  ]
}