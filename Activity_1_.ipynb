{
  "nbformat": 4,
  "nbformat_minor": 0,
  "metadata": {
    "colab": {
      "provenance": [],
      "authorship_tag": "ABX9TyPKC6tQ4NAzUB3c6IBIwnFM",
      "include_colab_link": true
    },
    "kernelspec": {
      "name": "python3",
      "display_name": "Python 3"
    },
    "language_info": {
      "name": "python"
    }
  },
  "cells": [
    {
      "cell_type": "markdown",
      "metadata": {
        "id": "view-in-github",
        "colab_type": "text"
      },
      "source": [
        "<a href=\"https://colab.research.google.com/github/HannahGraceNerio/CPE-201L-DSA-2-A/blob/main/Activity_1_.ipynb\" target=\"_parent\"><img src=\"https://colab.research.google.com/assets/colab-badge.svg\" alt=\"Open In Colab\"/></a>"
      ]
    },
    {
      "cell_type": "markdown",
      "source": [
        "#compute the area of the circle"
      ],
      "metadata": {
        "id": "iVLxHve-zQN1"
      }
    },
    {
      "cell_type": "code",
      "source": [
        "import math\n",
        "\n",
        "radius = float(input(\"Enter the radius of the circle: \"))\n",
        "\n",
        "area = math.pi * radius ** 2\n",
        "\n",
        "print(\"The area of the circle with radius\", radius, \"is\", area)"
      ],
      "metadata": {
        "colab": {
          "base_uri": "https://localhost:8080/"
        },
        "id": "dggMvQQwzZ_l",
        "outputId": "406430e7-7533-48c2-919c-61bc865625c3"
      },
      "execution_count": 15,
      "outputs": [
        {
          "output_type": "stream",
          "name": "stdout",
          "text": [
            "Enter the radius of the circle: 5\n",
            "The area of the circle with radius 5.0 is 78.53981633974483\n"
          ]
        }
      ]
    },
    {
      "cell_type": "code",
      "source": [
        "import math\n",
        "\n",
        "diameter = float(input(\"Enter the diameter of the circle: \"))\n",
        "\n",
        "area = math.pi * (diameter/2) ** 2\n",
        "\n",
        "print(\"The area of the circle with diameter\", diameter, \"is\", area)"
      ],
      "metadata": {
        "colab": {
          "base_uri": "https://localhost:8080/"
        },
        "id": "dDOkLhS3z4T-",
        "outputId": "183dfd06-566c-47b0-96db-48b4dc50d232"
      },
      "execution_count": 18,
      "outputs": [
        {
          "output_type": "stream",
          "name": "stdout",
          "text": [
            "Enter the diameter of the circle: 10\n",
            "The area of the circle with diameter 10.0 is 78.53981633974483\n"
          ]
        }
      ]
    }
  ]
}