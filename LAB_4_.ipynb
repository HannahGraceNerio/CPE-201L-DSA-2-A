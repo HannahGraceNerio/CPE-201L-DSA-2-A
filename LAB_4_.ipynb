{
  "nbformat": 4,
  "nbformat_minor": 0,
  "metadata": {
    "colab": {
      "provenance": [],
      "authorship_tag": "ABX9TyPuYglenWfkf/20n+e5a5Dd",
      "include_colab_link": true
    },
    "kernelspec": {
      "name": "python3",
      "display_name": "Python 3"
    },
    "language_info": {
      "name": "python"
    }
  },
  "cells": [
    {
      "cell_type": "markdown",
      "metadata": {
        "id": "view-in-github",
        "colab_type": "text"
      },
      "source": [
        "<a href=\"https://colab.research.google.com/github/HannahGraceNerio/CPE-201L-DSA-2-A/blob/main/LAB_4_.ipynb\" target=\"_parent\"><img src=\"https://colab.research.google.com/assets/colab-badge.svg\" alt=\"Open In Colab\"/></a>"
      ]
    },
    {
      "cell_type": "markdown",
      "source": [
        "Problem 1"
      ],
      "metadata": {
        "id": "IVLWTnqm07D8"
      }
    },
    {
      "cell_type": "code",
      "source": [
        "import copy\n",
        "\n",
        "class Item:\n",
        "    def __init__(self, name, price, quantity):\n",
        "        self.name = name\n",
        "        self.price = price\n",
        "        self.quantity = quantity\n",
        "\n",
        "    def __del__(self):\n",
        "        print(f\"Deleting item: {self.name}\")\n",
        "\n",
        "    def __copy__(self):\n",
        "        return type(self)(self.name, self.price, self.quantity)\n",
        "\n",
        "    def copy_assign(self, other):\n",
        "        self.name = other.name\n",
        "        self.price = other.price\n",
        "        self.quantity = other.quantity\n",
        "\n",
        "    def display(self):\n",
        "        print(f\"{self.name} - PHP {self.price} x{self.quantity}\")\n",
        "\n",
        "\n",
        "class Fruit(Item):\n",
        "    pass\n",
        "\n",
        "\n",
        "class Vegetable(Item):\n",
        "    pass\n"
      ],
      "metadata": {
        "id": "xS5lE7eY3KDd"
      },
      "execution_count": 9,
      "outputs": []
    },
    {
      "cell_type": "markdown",
      "source": [
        "Problem 2"
      ],
      "metadata": {
        "id": "oTwjQjPm3LaM"
      }
    },
    {
      "cell_type": "code",
      "source": [
        "class Item:\n",
        "    def __init__(self, name, price, quantity):\n",
        "        self.name = name\n",
        "        self.price = price\n",
        "        self.quantity = quantity\n",
        "\n",
        "    def display(self):\n",
        "        print(f\"{self.name} - PHP {self.price} x{self.quantity}\")\n",
        "\n",
        "grocery_list = [\n",
        "    Item(\"Apple\", 10, 7),\n",
        "    Item(\"Banana\", 10, 8),\n",
        "    Item(\"Broccoli\", 60, 12),\n",
        "    Item(\"Lettuce\", 50, 10)\n",
        "]\n",
        "\n",
        "print(\"Jenna's Grocery List\")\n",
        "for item in grocery_list:\n",
        "    item.display()"
      ],
      "metadata": {
        "colab": {
          "base_uri": "https://localhost:8080/"
        },
        "id": "39SQoy0209W1",
        "outputId": "039f48e1-d2bb-40f8-c1ea-9ee85ed6688c"
      },
      "execution_count": 10,
      "outputs": [
        {
          "output_type": "stream",
          "name": "stdout",
          "text": [
            "Jenna's Grocery List\n",
            "Apple - PHP 10 x7\n",
            "Banana - PHP 10 x8\n",
            "Broccoli - PHP 60 x12\n",
            "Lettuce - PHP 50 x10\n"
          ]
        }
      ]
    },
    {
      "cell_type": "markdown",
      "source": [
        "Problem 3"
      ],
      "metadata": {
        "id": "FUEQ9Aqy1f7P"
      }
    },
    {
      "cell_type": "code",
      "source": [
        "class Item:\n",
        "    def __init__(self, name, price, quantity):\n",
        "        self.name = name\n",
        "        self.price = price\n",
        "        self.quantity = quantity\n",
        "\n",
        "    def calculate_sum(self):\n",
        "        return self.price * self.quantity\n",
        "\n",
        "def total_sum(item_list):\n",
        "    return sum(item.calculate_sum() for item in item_list)\n",
        "\n",
        "grocery_list = [\n",
        "    Item(\"Apple\", 10, 7),\n",
        "    Item(\"Banana\", 10, 8),\n",
        "    Item(\"Broccoli\", 60, 12),\n",
        "    Item(\"Lettuce\", 50, 10)\n",
        "]\n",
        "\n",
        "print(f\"Total sum of all items: PHP {total_sum(grocery_list)}\")"
      ],
      "metadata": {
        "colab": {
          "base_uri": "https://localhost:8080/"
        },
        "id": "mdo3ehzA1ikl",
        "outputId": "820bac8c-bd04-42bb-f243-f83ff37b2b72"
      },
      "execution_count": 5,
      "outputs": [
        {
          "output_type": "stream",
          "name": "stdout",
          "text": [
            "Total sum of all items: PHP 1370\n"
          ]
        }
      ]
    },
    {
      "cell_type": "markdown",
      "source": [
        "Problem 4"
      ],
      "metadata": {
        "id": "GBCciNnM2AMF"
      }
    },
    {
      "cell_type": "code",
      "source": [
        "class Item:\n",
        "    def __init__(self, name, price, quantity):\n",
        "        self.name = name\n",
        "        self.price = price\n",
        "        self.quantity = quantity\n",
        "\n",
        "    def display(self):\n",
        "        print(f\"{self.name} - PHP {self.price} x{self.quantity}\")\n",
        "\n",
        "grocery_list = [\n",
        "    Item(\"Apple\", 10, 7),\n",
        "    Item(\"Banana\", 10, 8),\n",
        "    Item(\"Broccoli\", 60, 12),\n",
        "    Item(\"Lettuce\", 50, 10)\n",
        "]\n",
        "\n",
        "grocery_list = [item for item in grocery_list if item.name != \"Lettuce\"]\n",
        "\n",
        "print(\"Updated Grocery List\")\n",
        "for item in grocery_list:\n",
        "    item.display()"
      ],
      "metadata": {
        "colab": {
          "base_uri": "https://localhost:8080/"
        },
        "id": "z_oCfgat2CDd",
        "outputId": "55325e8c-cd4f-4cb0-bc72-31093ff1abe1"
      },
      "execution_count": 11,
      "outputs": [
        {
          "output_type": "stream",
          "name": "stdout",
          "text": [
            "Updated Grocery List\n",
            "Apple - PHP 10 x7\n",
            "Banana - PHP 10 x8\n",
            "Broccoli - PHP 60 x12\n"
          ]
        }
      ]
    }
  ]
}