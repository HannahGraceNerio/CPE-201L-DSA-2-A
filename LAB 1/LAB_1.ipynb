{
  "nbformat": 4,
  "nbformat_minor": 0,
  "metadata": {
    "colab": {
      "provenance": [],
      "authorship_tag": "ABX9TyN+tCRFeOZeMzPHWwQCdM95",
      "include_colab_link": true
    },
    "kernelspec": {
      "name": "python3",
      "display_name": "Python 3"
    },
    "language_info": {
      "name": "python"
    }
  },
  "cells": [
    {
      "cell_type": "markdown",
      "metadata": {
        "id": "view-in-github",
        "colab_type": "text"
      },
      "source": [
        "<a href=\"https://colab.research.google.com/github/HannahGraceNerio/CPE-201L-DSA-2-A/blob/main/LAB_1.ipynb\" target=\"_parent\"><img src=\"https://colab.research.google.com/assets/colab-badge.svg\" alt=\"Open In Colab\"/></a>"
      ]
    },
    {
      "cell_type": "code",
      "source": [
        "class Polygons:\n",
        "    def __init__(self, name, sides, area):\n",
        "        self.name = name\n",
        "        self.sides = sides\n",
        "        self.area = area\n",
        "\n",
        "    def set_name(self, name):\n",
        "        self.name = name\n",
        "\n",
        "    def set_sides(self, sides):\n",
        "        self.sides = sides\n",
        "\n",
        "    def set_area(self, area):\n",
        "        self.area = area\n",
        "\n",
        "    def get_name(self):\n",
        "        return self.name\n",
        "\n",
        "    def get_sides(self):\n",
        "        return self.sides\n",
        "\n",
        "    def get_area(self):\n",
        "        return self.area\n",
        "\n",
        "polygon = Polygons(\"Triangle\", 3, 15.0)\n",
        "\n",
        "print(polygon.get_name())\n",
        "print(polygon.get_sides())\n",
        "print(polygon.get_area())\n",
        "\n",
        "polygon.set_name(\"Square\")\n",
        "polygon.set_sides(4)\n",
        "polygon.set_area(25.0)\n",
        "\n",
        "print(polygon.get_name())\n",
        "print(polygon.get_sides())\n",
        "print(polygon.get_area())"
      ],
      "metadata": {
        "colab": {
          "base_uri": "https://localhost:8080/"
        },
        "id": "n0aLMRofAI5J",
        "outputId": "d6364bc7-69eb-4b8a-f7f1-d97c367a3df0"
      },
      "execution_count": 5,
      "outputs": [
        {
          "output_type": "stream",
          "name": "stdout",
          "text": [
            "Triangle\n",
            "3\n",
            "15.0\n",
            "Square\n",
            "4\n",
            "25.0\n"
          ]
        }
      ]
    }
  ]
}