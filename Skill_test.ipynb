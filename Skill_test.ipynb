{
  "nbformat": 4,
  "nbformat_minor": 0,
  "metadata": {
    "colab": {
      "provenance": [],
      "authorship_tag": "ABX9TyPD5MoDfqsX/4a/c9JOMCPf",
      "include_colab_link": true
    },
    "kernelspec": {
      "name": "python3",
      "display_name": "Python 3"
    },
    "language_info": {
      "name": "python"
    }
  },
  "cells": [
    {
      "cell_type": "markdown",
      "metadata": {
        "id": "view-in-github",
        "colab_type": "text"
      },
      "source": [
        "<a href=\"https://colab.research.google.com/github/HannahGraceNerio/CPE-201L-DSA-2-A/blob/main/Skill_test.ipynb\" target=\"_parent\"><img src=\"https://colab.research.google.com/assets/colab-badge.svg\" alt=\"Open In Colab\"/></a>"
      ]
    },
    {
      "cell_type": "markdown",
      "source": [
        "OBJECTIVES OF THE SKILL TEST:\n",
        "1. Choose only one(1) Data Structure (Array, Linked-list(Singly-Doubly), Stack, Queue\n",
        "2. Create a python program that append each character of your Fullname and traverse each character\n",
        "3. Save your python program as Skill Test in your Colab and Github"
      ],
      "metadata": {
        "id": "JKywpB6QcaeW"
      }
    },
    {
      "cell_type": "markdown",
      "source": [
        "USING STACK"
      ],
      "metadata": {
        "id": "6XcckcSEVFtP"
      }
    },
    {
      "cell_type": "code",
      "source": [
        "class Stack:\n",
        "    def __init__(self):\n",
        "        self.items = []\n",
        "\n",
        "    def push(self, item):\n",
        "        self.items.append(item)\n",
        "\n",
        "    def pop(self):\n",
        "        if not self.is_empty():\n",
        "            return self.items.pop()\n",
        "        return None\n",
        "\n",
        "    def top(self):\n",
        "        if not self.is_empty():\n",
        "            return self.items[-1]\n",
        "        return None\n",
        "\n",
        "    def is_empty(self):\n",
        "        return len(self.items) == 0\n",
        "\n",
        "name = \"HANNAH GRACE A. NERIO\"\n",
        "stack = Stack()\n",
        "\n",
        "for char in name:\n",
        "    stack.push(char)\n",
        "\n",
        "print(\"Stack\")\n",
        "print(stack.items)\n",
        "\n",
        "print(\"\\nStack Traversal:\")\n",
        "while not stack.is_empty():\n",
        "    print(stack.pop())\n"
      ],
      "metadata": {
        "colab": {
          "base_uri": "https://localhost:8080/"
        },
        "id": "wrwIEyDqVJ7l",
        "outputId": "e067de90-3486-4165-d344-2cc919afc6b8"
      },
      "execution_count": 1,
      "outputs": [
        {
          "output_type": "stream",
          "name": "stdout",
          "text": [
            "Stack\n",
            "['H', 'A', 'N', 'N', 'A', 'H', ' ', 'G', 'R', 'A', 'C', 'E', ' ', 'A', '.', ' ', 'N', 'E', 'R', 'I', 'O']\n",
            "\n",
            "Stack Traversal:\n",
            "O\n",
            "I\n",
            "R\n",
            "E\n",
            "N\n",
            " \n",
            ".\n",
            "A\n",
            " \n",
            "E\n",
            "C\n",
            "A\n",
            "R\n",
            "G\n",
            " \n",
            "H\n",
            "A\n",
            "N\n",
            "N\n",
            "A\n",
            "H\n"
          ]
        }
      ]
    }
  ]
}