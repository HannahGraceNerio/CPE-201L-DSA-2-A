{
  "nbformat": 4,
  "nbformat_minor": 0,
  "metadata": {
    "colab": {
      "provenance": [],
      "authorship_tag": "ABX9TyNiFdMqa1pl4bBNf6BBwJrB",
      "include_colab_link": true
    },
    "kernelspec": {
      "name": "python3",
      "display_name": "Python 3"
    },
    "language_info": {
      "name": "python"
    }
  },
  "cells": [
    {
      "cell_type": "markdown",
      "metadata": {
        "id": "view-in-github",
        "colab_type": "text"
      },
      "source": [
        "<a href=\"https://colab.research.google.com/github/HannahGraceNerio/CPE-201L-DSA-2-A/blob/main/LAB_5.ipynb\" target=\"_parent\"><img src=\"https://colab.research.google.com/assets/colab-badge.svg\" alt=\"Open In Colab\"/></a>"
      ]
    },
    {
      "cell_type": "code",
      "execution_count": 13,
      "metadata": {
        "colab": {
          "base_uri": "https://localhost:8080/"
        },
        "id": "9vhDPxYjUyoN",
        "outputId": "414d9202-c2da-4dbc-b23c-3cb4a683a40b"
      },
      "outputs": [
        {
          "output_type": "stream",
          "name": "stdout",
          "text": [
            "Array items: [1, 2, 3, 4, 5, 6, 7, 8, 9, 10]\n",
            "First element: 1\n",
            "Fourth element: 4\n",
            "Last element: 10\n",
            "Sum of the numbers: 55\n"
          ]
        }
      ],
      "source": [
        "numbers = [1, 2, 3, 4, 5, 6, 7, 8, 9, 10]\n",
        "print(\"Array items:\", numbers)\n",
        "\n",
        "print(\"First element:\", numbers[0])\n",
        "print(\"Fourth element:\", numbers[3])\n",
        "print(\"Last element:\", numbers[9])\n",
        "\n",
        "total = sum(numbers)\n",
        "print(\"Sum of the numbers:\", total)"
      ]
    },
    {
      "cell_type": "code",
      "source": [
        "numbers = [1, 2, 3, 4, 5, 6, 7, 8, 9, 10]\n",
        "print(\"Array items:\", numbers)\n",
        "\n",
        "numbers.append(24)\n",
        "print(\"Array items after appending:\", numbers)"
      ],
      "metadata": {
        "id": "8mWOWwxdXaeA",
        "colab": {
          "base_uri": "https://localhost:8080/"
        },
        "outputId": "db292670-b018-48d4-b6aa-0a1c9671f268"
      },
      "execution_count": 7,
      "outputs": [
        {
          "output_type": "stream",
          "name": "stdout",
          "text": [
            "Array items: [1, 2, 3, 4, 5, 6, 7, 8, 9, 10]\n",
            "Array items after appending: [1, 2, 3, 4, 5, 6, 7, 8, 9, 10, 24]\n"
          ]
        }
      ]
    },
    {
      "cell_type": "code",
      "source": [
        "numbers = [1, 2, 3, 4, 5, 6, 7, 8, 9, 10]\n",
        "print(\"Array items:\", numbers)\n",
        "\n",
        "numbers.insert(1, 11)\n",
        "print(\"Array items after inserting:\", numbers)"
      ],
      "metadata": {
        "colab": {
          "base_uri": "https://localhost:8080/"
        },
        "id": "39MiaEPcasN9",
        "outputId": "18c6b930-3a42-475c-c243-a4e20c9e0913"
      },
      "execution_count": 8,
      "outputs": [
        {
          "output_type": "stream",
          "name": "stdout",
          "text": [
            "Array items: [1, 2, 3, 4, 5, 6, 7, 8, 9, 10]\n",
            "Array items after inserting: [1, 11, 2, 3, 4, 5, 6, 7, 8, 9, 10]\n"
          ]
        }
      ]
    },
    {
      "cell_type": "code",
      "source": [
        "numbers = [5, 4, 3, 2, 1]\n",
        "print(\"Array items:\", numbers)\n",
        "\n",
        "numbers.reverse()\n",
        "print(\"Array items after reversing:\", numbers)"
      ],
      "metadata": {
        "colab": {
          "base_uri": "https://localhost:8080/"
        },
        "id": "N8vdWERscKI8",
        "outputId": "2b164511-499c-4721-c11a-27b1b2039bee"
      },
      "execution_count": 10,
      "outputs": [
        {
          "output_type": "stream",
          "name": "stdout",
          "text": [
            "Array items: [5, 4, 3, 2, 1]\n",
            "Array items after reversing: [1, 2, 3, 4, 5]\n"
          ]
        }
      ]
    },
    {
      "cell_type": "code",
      "source": [
        "numbers = [5, 4, 3, 2, 1]\n",
        "print(\"Array items:\", numbers)\n",
        "\n",
        "length = len(numbers)\n",
        "print(\"Length of the array:\", length)\n"
      ],
      "metadata": {
        "colab": {
          "base_uri": "https://localhost:8080/"
        },
        "id": "9p0rAo2nfV_W",
        "outputId": "e62fddaf-9282-47ed-81ef-0a7bb53c70e2"
      },
      "execution_count": 11,
      "outputs": [
        {
          "output_type": "stream",
          "name": "stdout",
          "text": [
            "Array items: [5, 4, 3, 2, 1]\n",
            "Length of the array: 5\n"
          ]
        }
      ]
    }
  ]
}